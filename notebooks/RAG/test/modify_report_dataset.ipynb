{
 "cells": [
  {
   "cell_type": "markdown",
   "metadata": {},
   "source": [
    "# 증권사 리포트 테스트 데이터셋을 수정 스크립트\n",
    "\n",
    "증권사 리포트 테스트 데이터셋을 수정하기 위한 스크립트 입니다.\n",
    "임시로 작성한 것이기 때문에 자유롭게 수정하시면 됩니다."
   ]
  },
  {
   "cell_type": "code",
   "execution_count": 1,
   "metadata": {},
   "outputs": [],
   "source": [
    "import os, json\n",
    "from dotenv import load_dotenv\n",
    "\n",
    "import joblib\n",
    "\n",
    "import pandas as pd\n",
    "from openai import OpenAI # openai==1.52.2\n",
    "import traceback"
   ]
  },
  {
   "cell_type": "code",
   "execution_count": 2,
   "metadata": {},
   "outputs": [
    {
     "data": {
      "text/plain": [
       "True"
      ]
     },
     "execution_count": 2,
     "metadata": {},
     "output_type": "execute_result"
    }
   ],
   "source": [
    "load_dotenv() ## OPEN_API_KEY 속성이 존재해야함"
   ]
  },
  {
   "cell_type": "code",
   "execution_count": 3,
   "metadata": {},
   "outputs": [],
   "source": [
    "qa_pairs = pd.read_csv('../data/report_qa_pairs_202502024.csv')"
   ]
  },
  {
   "cell_type": "code",
   "execution_count": 4,
   "metadata": {},
   "outputs": [],
   "source": [
    "qa_pairs['id'] = range(1, len(qa_pairs) + 1)"
   ]
  },
  {
   "cell_type": "code",
   "execution_count": 7,
   "metadata": {},
   "outputs": [],
   "source": [
    "cols = ['id'] + [col for col in qa_pairs.columns if col != 'id']\n",
    "qa_pairs = qa_pairs[cols]"
   ]
  },
  {
   "cell_type": "code",
   "execution_count": 8,
   "metadata": {},
   "outputs": [
    {
     "name": "stdout",
     "output_type": "stream",
     "text": [
      "   id                                           question  \\\n",
      "0   1                            크래프톤의 2024년 목표주가는 얼마인가?   \n",
      "1   2        크래프톤의 1분기 매출액은 얼마였으며, 이는 전년 대비 몇 퍼센트 증가했는가?   \n",
      "2   3  크래프톤의 영업이익이 2023년과 2024년에는 증가할 것으로 예상되는데, 그 이유...   \n",
      "3   4                                  크래프톤의 목표주가는 얼마인가?   \n",
      "4   5                           2024년 크래프톤의 예상 매출은 얼마인가?   \n",
      "\n",
      "                                              answer answer_document_id  \\\n",
      "0                                       370,000원입니다.                [6]   \n",
      "1           1분기 매출액은 6,660억원이며, 이는 전년 대비 24% 증가했습니다.                [3]   \n",
      "2  2024년에는 다크앤다커M의 정식 출시와 함께 높은 트래픽이 유지되며 PUBG 매출...                [7]   \n",
      "3                                      410,000 원입니다.          [94, 101]   \n",
      "4                                       2,685 억원입니다.         [104, 106]   \n",
      "\n",
      "                                    document_context company_name  \\\n",
      "0  20240509에 미래에셋증권에서 발행한 크래프톤에 관한 레포트에서 나온 내용.\\n...         크래프톤   \n",
      "1  20240509에 미래에셋증권에서 발행한 크래프톤에 관한 레포트에서 나온 내용.\\n...         크래프톤   \n",
      "2  20240509에 미래에셋증권에서 발행한 크래프톤에 관한 레포트에서 나온 내용.\\n...         크래프톤   \n",
      "3  20241017에 교보증권에서 발행한 크래프톤에 관한 레포트에서 나온 내용.\\n\\n...         크래프톤   \n",
      "4  20241017에 교보증권에서 발행한 크래프톤에 관한 레포트에서 나온 내용.\\n\\n...         크래프톤   \n",
      "\n",
      "                source_file  \n",
      "0  크래프톤_20240509_미래에셋증권.pdf  \n",
      "1  크래프톤_20240509_미래에셋증권.pdf  \n",
      "2  크래프톤_20240509_미래에셋증권.pdf  \n",
      "3    크래프톤_20241017_교보증권.pdf  \n",
      "4    크래프톤_20241017_교보증권.pdf  \n"
     ]
    }
   ],
   "source": [
    "print(qa_pairs.head())"
   ]
  },
  {
   "cell_type": "code",
   "execution_count": 9,
   "metadata": {},
   "outputs": [],
   "source": [
    "qa_pairs.to_csv('../data/report_qa_pairs_20250205.csv', index=False)"
   ]
  },
  {
   "cell_type": "code",
   "execution_count": null,
   "metadata": {},
   "outputs": [],
   "source": []
  }
 ],
 "metadata": {
  "kernelspec": {
   "display_name": "pyenv 3.11.9 v2",
   "language": "python",
   "name": "rag-parser2"
  },
  "language_info": {
   "codemirror_mode": {
    "name": "ipython",
    "version": 3
   },
   "file_extension": ".py",
   "mimetype": "text/x-python",
   "name": "python",
   "nbconvert_exporter": "python",
   "pygments_lexer": "ipython3",
   "version": "3.11.9"
  }
 },
 "nbformat": 4,
 "nbformat_minor": 2
}
